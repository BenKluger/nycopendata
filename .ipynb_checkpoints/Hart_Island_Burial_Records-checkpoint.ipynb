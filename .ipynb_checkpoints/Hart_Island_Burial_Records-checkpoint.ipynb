{
 "cells": [
  {
   "cell_type": "code",
   "execution_count": 2,
   "metadata": {},
   "outputs": [],
   "source": [
    "import pandas as pd\n",
    "import matplotlib.pyplot"
   ]
  },
  {
   "cell_type": "code",
   "execution_count": 4,
   "metadata": {},
   "outputs": [],
   "source": [
    "burial_records = pd.read_csv('./csv/DOC_Hart_Island_Burial_records.csv')"
   ]
  },
  {
   "cell_type": "code",
   "execution_count": 13,
   "metadata": {},
   "outputs": [
    {
     "data": {
      "text/plain": [
       "0                                          157 E 126 ST\n",
       "1                                           24-51 23 ST\n",
       "2                          EAST RIVER DRIVE & CHERRY ST\n",
       "3                        NEW YORK PRESBYTERIAN HOSPITAL\n",
       "4                                   LENOX HILL HOSPITAL\n",
       "5                                   LENOX HILL HOSPITAL\n",
       "6                      NYU LANGONE MEDICAL CENTER TISCH\n",
       "7                      NYU LANGONE MEDICAL CENTER TISCH\n",
       "8                              BRONXCARE HEALTH SYSTEMS\n",
       "9        MONTEFIORE MEDICAL CENTER - WAKEFIELD HOSPITAL\n",
       "10                1070 E NEW YORK AVE BROOKLYN NY 11212\n",
       "11                                 MOUNT SINAI ST LUKES\n",
       "12               W 34TH ST & 8TH AVE MANHATTAN NY 10001\n",
       "13     BROOKDALE UNIVERSITY HOSPITAL AND MEDICAL CENTER\n",
       "14             NEW YORK PRESBYTERIAN METHODIST HOSPITAL\n",
       "15       MONTEFIORE MEDICAL CENTER - WAKEFIELD HOSPITAL\n",
       "16               543 OCEAN AVE, APT4J BROOKLYN NY 11226\n",
       "17                              BRONCARE HEALTH SYSTEMS\n",
       "18                  4326 EDSON AVE #BSMT BRONX NY 10466\n",
       "19                              JAMAICA HOSPITAL CENTER\n",
       "20                                    SBH HEALTH SYSTEM\n",
       "21    MONTEFIORE MEDICAL CENTER - HENRY AND LUCY MOS...\n",
       "22                       760 MELROSE AVE BRONX NY 10451\n",
       "23                           1101 HOE AVENUE 3 BRONX NY\n",
       "24                                     CALVARY HOSPITAL\n",
       "25                        NEW YORK PREBYTERIAN HOSPITAL\n",
       "26                  525 ROCKAWAY PKWY BROOKLYN NY 11212\n",
       "27                                   THE ALLEN HOSPITAL\n",
       "28                        8819 146TH ST QUEENS NY 11435\n",
       "29                      LONG ISLAND JEWISH FOREST HILLS\n",
       "30       MONTEFIORE MEDICAL CENTER - WAKEFIELD HOSPITAL\n",
       "31                             BRONXCARE HEALTH SYSTEMS\n",
       "32                     2144 PROSPECT AVE BRONX NY 10457\n",
       "33                                   THE ALLEN HOSPITAL\n",
       "34                                 MOUNT SINAI HOSPITAL\n",
       "35                   4 FORDHAM HILL OVAL BRONX NY 10468\n",
       "36               466 SARATOGA AVE BSM BROOKLYN NY 11233\n",
       "37    THE CITADEL REHAB. & NURSING CENTER AT KINGSBR...\n",
       "38             LINCOLN MEDICAL AND MENTAL HEALTH CENTER\n",
       "39                             BROOKLYN HOSPITAL CENTER\n",
       "40                                JACOBI MEDICAL CENTER\n",
       "41                         NORTH CENTRAL BRONX HOSPITAL\n",
       "42                     NYU LANGONE MEDICAL CENTER TISCH\n",
       "43                      JAMAICA HOSPITAL MEDICAL CENTER\n",
       "44    MONTEFIORE MEDICAL CENTER-HENRY AND LUCY MOSES...\n",
       "45                       162 MONTAUK AVE BRONX NY 11208\n",
       "46                             ELMHURST HOSPITAL CENTER\n",
       "47                        NEW YORK PRESBEYTERIAN QUEENS\n",
       "48                         EAST 14 ST NEW YORK NY 10014\n",
       "49                             BRONXCARE HEALTH SYSTEMS\n",
       "Name: Place of Death, dtype: object"
      ]
     },
     "execution_count": 13,
     "metadata": {},
     "output_type": "execute_result"
    }
   ],
   "source": [
    "burial_records.iloc[:,(4)].head(50)"
   ]
  },
  {
   "cell_type": "code",
   "execution_count": null,
   "metadata": {},
   "outputs": [],
   "source": []
  }
 ],
 "metadata": {
  "kernelspec": {
   "display_name": "Python 3",
   "language": "python",
   "name": "python3"
  },
  "language_info": {
   "codemirror_mode": {
    "name": "ipython",
    "version": 3
   },
   "file_extension": ".py",
   "mimetype": "text/x-python",
   "name": "python",
   "nbconvert_exporter": "python",
   "pygments_lexer": "ipython3",
   "version": "3.7.6"
  }
 },
 "nbformat": 4,
 "nbformat_minor": 4
}
