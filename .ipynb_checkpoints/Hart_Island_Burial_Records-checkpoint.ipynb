{
 "cells": [
  {
   "cell_type": "code",
   "execution_count": 2,
   "metadata": {},
   "outputs": [],
   "source": [
    "import pandas as pd\n",
    "import matplotlib.pyplot"
   ]
  },
  {
   "cell_type": "code",
   "execution_count": 4,
   "metadata": {},
   "outputs": [],
   "source": [
    "burial_records = pd.read_csv('./csv/DOC_Hart_Island_Burial_records.csv')"
   ]
  },
  {
   "cell_type": "code",
   "execution_count": 5,
   "metadata": {},
   "outputs": [
    {
     "data": {
      "text/plain": [
       "<bound method NDFrame.head of       Last Name      First Name   Age  Death Date  \\\n",
       "0           NaN             NaN  35.0  02/19/1989   \n",
       "1           NaN             NaN  20.0  04/27/1991   \n",
       "2           NaN             NaN  25.0  05/14/1992   \n",
       "3           NaN           NALLY   NaN  03/22/2020   \n",
       "4           ***           SMITH   NaN  08/25/2020   \n",
       "...         ...             ...   ...         ...   \n",
       "4514  ZOUNGRANA       MARDIYA Z   NaN  08/11/2020   \n",
       "4515  ZOUNGRANA       MAWADDA W   NaN  08/11/2020   \n",
       "4516   ZSIGMOND          LASZIO  76.0  06/15/2020   \n",
       "4517      ZULLO         ANTHONY  63.0  09/30/2020   \n",
       "4518     ZUNIGA  GERMAN MAURICO   NaN  09/24/2019   \n",
       "\n",
       "                        Place of Death  \n",
       "0                         157 E 126 ST  \n",
       "1                          24-51 23 ST  \n",
       "2         EAST RIVER DRIVE & CHERRY ST  \n",
       "3       NEW YORK PRESBYTERIAN HOSPITAL  \n",
       "4                  LENOX HILL HOSPITAL  \n",
       "...                                ...  \n",
       "4514  NYU LANGONE MEDICAL CENTER TISCH  \n",
       "4515  NYU LANGONE MEDICAL CENTER TISCH  \n",
       "4516               LENOX HILL HOSPITAL  \n",
       "4517          THE MOUNT SINAI HOSPITAL  \n",
       "4518           JACK D. WEILER HOSPITAL  \n",
       "\n",
       "[4519 rows x 5 columns]>"
      ]
     },
     "execution_count": 5,
     "metadata": {},
     "output_type": "execute_result"
    }
   ],
   "source": [
    "burial_records.head"
   ]
  },
  {
   "cell_type": "code",
   "execution_count": null,
   "metadata": {},
   "outputs": [],
   "source": []
  }
 ],
 "metadata": {
  "kernelspec": {
   "display_name": "Python 3",
   "language": "python",
   "name": "python3"
  },
  "language_info": {
   "codemirror_mode": {
    "name": "ipython",
    "version": 3
   },
   "file_extension": ".py",
   "mimetype": "text/x-python",
   "name": "python",
   "nbconvert_exporter": "python",
   "pygments_lexer": "ipython3",
   "version": "3.7.6"
  }
 },
 "nbformat": 4,
 "nbformat_minor": 4
}
