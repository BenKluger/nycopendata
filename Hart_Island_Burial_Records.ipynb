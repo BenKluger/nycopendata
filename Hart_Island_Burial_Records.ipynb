{
 "cells": [
  {
   "cell_type": "code",
   "execution_count": 2,
   "metadata": {},
   "outputs": [],
   "source": [
    "import pandas as pd\n",
    "import matplotlib.pyplot"
   ]
  },
  {
   "cell_type": "code",
   "execution_count": 4,
   "metadata": {},
   "outputs": [],
   "source": [
    "burial_records = pd.read_csv('./csv/DOC_Hart_Island_Burial_records.csv')"
   ]
  },
  {
   "cell_type": "code",
   "execution_count": 13,
   "metadata": {},
   "outputs": [
    {
     "data": {
      "text/plain": [
       "0                                          157 E 126 ST\n",
       "1                                           24-51 23 ST\n",
       "2                          EAST RIVER DRIVE & CHERRY ST\n",
       "3                        NEW YORK PRESBYTERIAN HOSPITAL\n",
       "4                                   LENOX HILL HOSPITAL\n",
       "5                                   LENOX HILL HOSPITAL\n",
       "6                      NYU LANGONE MEDICAL CENTER TISCH\n",
       "7                      NYU LANGONE MEDICAL CENTER TISCH\n",
       "8                              BRONXCARE HEALTH SYSTEMS\n",
       "9        MONTEFIORE MEDICAL CENTER - WAKEFIELD HOSPITAL\n",
       "10                1070 E NEW YORK AVE BROOKLYN NY 11212\n",
       "11                                 MOUNT SINAI ST LUKES\n",
       "12               W 34TH ST & 8TH AVE MANHATTAN NY 10001\n",
       "13     BROOKDALE UNIVERSITY HOSPITAL AND MEDICAL CENTER\n",
       "14             NEW YORK PRESBYTERIAN METHODIST HOSPITAL\n",
       "15       MONTEFIORE MEDICAL CENTER - WAKEFIELD HOSPITAL\n",
       "16               543 OCEAN AVE, APT4J BROOKLYN NY 11226\n",
       "17                              BRONCARE HEALTH SYSTEMS\n",
       "18                  4326 EDSON AVE #BSMT BRONX NY 10466\n",
       "19                              JAMAICA HOSPITAL CENTER\n",
       "20                                    SBH HEALTH SYSTEM\n",
       "21    MONTEFIORE MEDICAL CENTER - HENRY AND LUCY MOS...\n",
       "22                       760 MELROSE AVE BRONX NY 10451\n",
       "23                           1101 HOE AVENUE 3 BRONX NY\n",
       "24                                     CALVARY HOSPITAL\n",
       "25                        NEW YORK PREBYTERIAN HOSPITAL\n",
       "26                  525 ROCKAWAY PKWY BROOKLYN NY 11212\n",
       "27                                   THE ALLEN HOSPITAL\n",
       "28                        8819 146TH ST QUEENS NY 11435\n",
       "29                      LONG ISLAND JEWISH FOREST HILLS\n",
       "30       MONTEFIORE MEDICAL CENTER - WAKEFIELD HOSPITAL\n",
       "31                             BRONXCARE HEALTH SYSTEMS\n",
       "32                     2144 PROSPECT AVE BRONX NY 10457\n",
       "33                                   THE ALLEN HOSPITAL\n",
       "34                                 MOUNT SINAI HOSPITAL\n",
       "35                   4 FORDHAM HILL OVAL BRONX NY 10468\n",
       "36               466 SARATOGA AVE BSM BROOKLYN NY 11233\n",
       "37    THE CITADEL REHAB. & NURSING CENTER AT KINGSBR...\n",
       "38             LINCOLN MEDICAL AND MENTAL HEALTH CENTER\n",
       "39                             BROOKLYN HOSPITAL CENTER\n",
       "40                                JACOBI MEDICAL CENTER\n",
       "41                         NORTH CENTRAL BRONX HOSPITAL\n",
       "42                     NYU LANGONE MEDICAL CENTER TISCH\n",
       "43                      JAMAICA HOSPITAL MEDICAL CENTER\n",
       "44    MONTEFIORE MEDICAL CENTER-HENRY AND LUCY MOSES...\n",
       "45                       162 MONTAUK AVE BRONX NY 11208\n",
       "46                             ELMHURST HOSPITAL CENTER\n",
       "47                        NEW YORK PRESBEYTERIAN QUEENS\n",
       "48                         EAST 14 ST NEW YORK NY 10014\n",
       "49                             BRONXCARE HEALTH SYSTEMS\n",
       "Name: Place of Death, dtype: object"
      ]
     },
     "execution_count": 13,
     "metadata": {},
     "output_type": "execute_result"
    }
   ],
   "source": [
    "burial_records.iloc[:,(4)].head(50)"
   ]
  },
  {
   "cell_type": "code",
   "execution_count": 20,
   "metadata": {},
   "outputs": [
    {
     "data": {
      "text/plain": [
       "0     02/19/1989\n",
       "1     04/27/1991\n",
       "2     05/14/1992\n",
       "3     03/22/2020\n",
       "4     08/25/2020\n",
       "5     08/25/2020\n",
       "6     09/19/2020\n",
       "7     08/06/2020\n",
       "8     09/22/2019\n",
       "9     05/18/2020\n",
       "10    07/05/2020\n",
       "11    01/30/2020\n",
       "12    07/09/2020\n",
       "13    12/06/2019\n",
       "14    05/01/2020\n",
       "15    10/19/2019\n",
       "16    06/03/2020\n",
       "17    02/25/2021\n",
       "18    03/15/2020\n",
       "19    12/12/2020\n",
       "20    06/23/2019\n",
       "21    02/12/2020\n",
       "22    05/11/2020\n",
       "23    06/07/2018\n",
       "24    04/23/2020\n",
       "25    05/13/2020\n",
       "26    06/04/2020\n",
       "27    09/06/2020\n",
       "28    02/02/2020\n",
       "29    04/28/2020\n",
       "30    06/03/2020\n",
       "31    01/03/2021\n",
       "32    05/23/2019\n",
       "33    04/17/2020\n",
       "34    04/22/2020\n",
       "35    05/06/2019\n",
       "36    04/16/2020\n",
       "37    07/01/2020\n",
       "38    04/05/2020\n",
       "39    11/28/2020\n",
       "40    09/05/2020\n",
       "41    02/03/2021\n",
       "42    01/09/2021\n",
       "43    07/30/2020\n",
       "44    03/26/2020\n",
       "45    04/25/2020\n",
       "46    07/17/2019\n",
       "47    07/08/2020\n",
       "48    03/30/2020\n",
       "49    04/11/2020\n",
       "Name: Death Date, dtype: object"
      ]
     },
     "execution_count": 20,
     "metadata": {},
     "output_type": "execute_result"
    }
   ],
   "source": [
    "burial_records.iloc[:,(3)].head(50)"
   ]
  },
  {
   "cell_type": "code",
   "execution_count": 21,
   "metadata": {},
   "outputs": [
    {
     "data": {
      "text/plain": [
       "4469    04/18/2019\n",
       "4470    07/03/2005\n",
       "4471    04/11/2020\n",
       "4472    12/13/2019\n",
       "4473    05/06/2020\n",
       "4474    02/02/2014\n",
       "4475    07/22/2020\n",
       "4476    03/26/2019\n",
       "4477    11/11/2019\n",
       "4478    05/31/2020\n",
       "4479    07/29/2020\n",
       "4480    10/24/2020\n",
       "4481    01/27/2020\n",
       "4482    04/01/2020\n",
       "4483    04/19/2020\n",
       "4484    04/12/2020\n",
       "4485    04/06/2020\n",
       "4486    07/20/2020\n",
       "4487    07/20/2020\n",
       "4488    06/12/2020\n",
       "4489    04/12/2020\n",
       "4490    07/20/2019\n",
       "4491    03/03/2020\n",
       "4492    03/26/2020\n",
       "4493    06/03/2020\n",
       "4494    12/29/2020\n",
       "4495    12/19/2020\n",
       "4496    06/21/2020\n",
       "4497    09/23/2019\n",
       "4498    04/06/2020\n",
       "4499    04/24/2020\n",
       "4500    04/12/2020\n",
       "4501    08/25/2020\n",
       "4502    02/14/2019\n",
       "4503    01/24/2020\n",
       "4504    02/29/2020\n",
       "4505    05/15/2019\n",
       "4506    11/02/2016\n",
       "4507    04/06/2020\n",
       "4508    12/23/2019\n",
       "4509    03/02/2021\n",
       "4510    05/04/2017\n",
       "4511    04/16/2020\n",
       "4512    07/02/2020\n",
       "4513    04/23/2019\n",
       "4514    08/11/2020\n",
       "4515    08/11/2020\n",
       "4516    06/15/2020\n",
       "4517    09/30/2020\n",
       "4518    09/24/2019\n",
       "Name: Death Date, dtype: object"
      ]
     },
     "execution_count": 21,
     "metadata": {},
     "output_type": "execute_result"
    }
   ],
   "source": [
    "burial_records.iloc[:,(3)].tail(50)"
   ]
  },
  {
   "cell_type": "code",
   "execution_count": null,
   "metadata": {},
   "outputs": [],
   "source": []
  }
 ],
 "metadata": {
  "kernelspec": {
   "display_name": "Python 3",
   "language": "python",
   "name": "python3"
  },
  "language_info": {
   "codemirror_mode": {
    "name": "ipython",
    "version": 3
   },
   "file_extension": ".py",
   "mimetype": "text/x-python",
   "name": "python",
   "nbconvert_exporter": "python",
   "pygments_lexer": "ipython3",
   "version": "3.7.6"
  }
 },
 "nbformat": 4,
 "nbformat_minor": 4
}
